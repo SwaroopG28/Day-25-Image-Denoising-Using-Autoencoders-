{
 "cells": [
  {
   "cell_type": "markdown",
   "id": "cb3068d9",
   "metadata": {},
   "source": [
    "# Image Denoising Using Autoencoders  "
   ]
  },
  {
   "cell_type": "code",
   "execution_count": 1,
   "id": "1d256099",
   "metadata": {},
   "outputs": [],
   "source": [
    "# Import required libraries\n",
    "import numpy as np\n",
    "import matplotlib.pyplot as plt\n",
    "import tensorflow as tf\n",
    "from tensorflow.keras.layers import Conv2D, MaxPooling2D, UpSampling2D\n",
    "from tensorflow.keras.models import Sequential"
   ]
  },
  {
   "cell_type": "code",
   "execution_count": 2,
   "id": "af03edb6",
   "metadata": {},
   "outputs": [],
   "source": [
    "# Load MNIST dataset\n",
    "(X_train, _), (X_test, _) = tf.keras.datasets.mnist.load_data()"
   ]
  },
  {
   "cell_type": "code",
   "execution_count": 3,
   "id": "818a89d2",
   "metadata": {},
   "outputs": [],
   "source": [
    "# Normalize images to range [0,1]\n",
    "X_train = X_train / 255.0\n",
    "X_test = X_test / 255.0"
   ]
  },
  {
   "cell_type": "code",
   "execution_count": 4,
   "id": "3db1083a",
   "metadata": {},
   "outputs": [],
   "source": [
    "# Reshape to add a single channel (for grayscale)\n",
    "X_train = X_train.reshape(-1, 28, 28, 1)\n",
    "X_test = X_test.reshape(-1, 28, 28, 1)\n"
   ]
  },
  {
   "cell_type": "code",
   "execution_count": 5,
   "id": "6a453a8d",
   "metadata": {},
   "outputs": [],
   "source": [
    "# Add noise to images\n",
    "noise_factor = 0.4  # Adjust noise level\n",
    "X_train_noisy = X_train + noise_factor * np.random.randn(*X_train.shape)\n",
    "X_test_noisy = X_test + noise_factor * np.random.randn(*X_test.shape)"
   ]
  },
  {
   "cell_type": "code",
   "execution_count": 6,
   "id": "72ffd63a",
   "metadata": {},
   "outputs": [],
   "source": [
    "# Clip values to be in [0,1] range\n",
    "X_train_noisy = np.clip(X_train_noisy, 0., 1.)\n",
    "X_test_noisy = np.clip(X_test_noisy, 0., 1.)\n"
   ]
  },
  {
   "cell_type": "code",
   "execution_count": 7,
   "id": "52fbc3f2",
   "metadata": {},
   "outputs": [
    {
     "name": "stderr",
     "output_type": "stream",
     "text": [
      "C:\\Users\\swaro\\anaconda3\\Lib\\site-packages\\keras\\src\\layers\\convolutional\\base_conv.py:107: UserWarning: Do not pass an `input_shape`/`input_dim` argument to a layer. When using Sequential models, prefer using an `Input(shape)` object as the first layer in the model instead.\n",
      "  super().__init__(activity_regularizer=activity_regularizer, **kwargs)\n"
     ]
    }
   ],
   "source": [
    "# Build the Autoencoder model\n",
    "autoencoder = Sequential([\n",
    "    Conv2D(32, (3, 3), activation=\"relu\", padding=\"same\", input_shape=(28, 28, 1)),\n",
    "    MaxPooling2D((2, 2), padding=\"same\"),\n",
    "    Conv2D(32, (3, 3), activation=\"relu\", padding=\"same\"),\n",
    "    MaxPooling2D((2, 2), padding=\"same\"),\n",
    "    \n",
    "    # Upsampling (Decoding)\n",
    "    Conv2D(32, (3, 3), activation=\"relu\", padding=\"same\"),\n",
    "    UpSampling2D((2, 2)),\n",
    "    Conv2D(32, (3, 3), activation=\"relu\", padding=\"same\"),\n",
    "    UpSampling2D((2, 2)),\n",
    "    Conv2D(1, (3, 3), activation=\"sigmoid\", padding=\"same\")  # Output layer\n",
    "])\n"
   ]
  },
  {
   "cell_type": "code",
   "execution_count": 8,
   "id": "d7af841b",
   "metadata": {},
   "outputs": [],
   "source": [
    "# Compile the model\n",
    "autoencoder.compile(optimizer=\"adam\", loss=\"binary_crossentropy\")"
   ]
  },
  {
   "cell_type": "code",
   "execution_count": 9,
   "id": "1d2ce47f",
   "metadata": {},
   "outputs": [
    {
     "name": "stdout",
     "output_type": "stream",
     "text": [
      "Epoch 1/5\n",
      "\u001b[1m469/469\u001b[0m \u001b[32m━━━━━━━━━━━━━━━━━━━━\u001b[0m\u001b[37m\u001b[0m \u001b[1m30s\u001b[0m 55ms/step - loss: 0.2587 - val_loss: 0.1018\n",
      "Epoch 2/5\n",
      "\u001b[1m469/469\u001b[0m \u001b[32m━━━━━━━━━━━━━━━━━━━━\u001b[0m\u001b[37m\u001b[0m \u001b[1m26s\u001b[0m 56ms/step - loss: 0.1013 - val_loss: 0.0959\n",
      "Epoch 3/5\n",
      "\u001b[1m469/469\u001b[0m \u001b[32m━━━━━━━━━━━━━━━━━━━━\u001b[0m\u001b[37m\u001b[0m \u001b[1m26s\u001b[0m 56ms/step - loss: 0.0962 - val_loss: 0.0932\n",
      "Epoch 4/5\n",
      "\u001b[1m469/469\u001b[0m \u001b[32m━━━━━━━━━━━━━━━━━━━━\u001b[0m\u001b[37m\u001b[0m \u001b[1m31s\u001b[0m 66ms/step - loss: 0.0937 - val_loss: 0.0915\n",
      "Epoch 5/5\n",
      "\u001b[1m469/469\u001b[0m \u001b[32m━━━━━━━━━━━━━━━━━━━━\u001b[0m\u001b[37m\u001b[0m \u001b[1m38s\u001b[0m 59ms/step - loss: 0.0921 - val_loss: 0.0906\n"
     ]
    },
    {
     "data": {
      "text/plain": [
       "<keras.src.callbacks.history.History at 0x2caad0c9b10>"
      ]
     },
     "execution_count": 9,
     "metadata": {},
     "output_type": "execute_result"
    }
   ],
   "source": [
    "# Train the Autoencoder\n",
    "autoencoder.fit(X_train_noisy, X_train, epochs=5, batch_size=128, validation_data=(X_test_noisy, X_test))"
   ]
  },
  {
   "cell_type": "code",
   "execution_count": 10,
   "id": "ad2e7514",
   "metadata": {},
   "outputs": [
    {
     "name": "stdout",
     "output_type": "stream",
     "text": [
      "\u001b[1m313/313\u001b[0m \u001b[32m━━━━━━━━━━━━━━━━━━━━\u001b[0m\u001b[37m\u001b[0m \u001b[1m4s\u001b[0m 13ms/step\n"
     ]
    }
   ],
   "source": [
    "# Denoise test images\n",
    "X_test_denoised = autoencoder.predict(X_test_noisy)"
   ]
  },
  {
   "cell_type": "code",
   "execution_count": 11,
   "id": "b0936f9e",
   "metadata": {},
   "outputs": [
    {
     "data": {
      "image/png": "[encoded data removed]",
      "text/plain": [
       "<Figure size 1000x500 with 15 Axes>"
      ]
     },
     "metadata": {},
     "output_type": "display_data"
    }
   ],
   "source": [
    "# Display results\n",
    "n = 5  # Number of images to display\n",
    "plt.figure(figsize=(10, 5))\n",
    "for i in range(n):\n",
    "    plt.subplot(3, n, i + 1)\n",
    "    plt.imshow(X_test[i].reshape(28, 28), cmap=\"gray\")\n",
    "    plt.title(\"Original\")\n",
    "    plt.axis(\"off\")\n",
    "\n",
    "    plt.subplot(3, n, i + 1 + n)\n",
    "    plt.imshow(X_test_noisy[i].reshape(28, 28), cmap=\"gray\")\n",
    "    plt.title(\"Noisy\")\n",
    "    plt.axis(\"off\")\n",
    "\n",
    "    plt.subplot(3, n, i + 1 + 2*n)\n",
    "    plt.imshow(X_test_denoised[i].reshape(28, 28), cmap=\"gray\")\n",
    "    plt.title(\"Denoised\")\n",
    "    plt.axis(\"off\")\n",
    "\n",
    "plt.show()"
   ]
  }
 ],
 "metadata": {
  "kernelspec": {
   "display_name": "Python 3 (ipykernel)",
   "language": "python",
   "name": "python3"
  },
  "language_info": {
   "codemirror_mode": {
    "name": "ipython",
    "version": 3
   },
   "file_extension": ".py",
   "mimetype": "text/x-python",
   "name": "python",
   "nbconvert_exporter": "python",
   "pygments_lexer": "ipython3",
   "version": "3.11.4"
  }
 },
 "nbformat": 4,
 "nbformat_minor": 5
}
